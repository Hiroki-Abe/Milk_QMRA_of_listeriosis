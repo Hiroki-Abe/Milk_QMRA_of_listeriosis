{
 "cells": [
  {
   "cell_type": "code",
   "execution_count": 1,
   "metadata": {},
   "outputs": [],
   "source": [
    "%matplotlib inline\n",
    "import time\n",
    "import math\n",
    "import warnings\n",
    "import matplotlib.pyplot as plt\n",
    "from copy import deepcopy\n",
    "import numpy as np\n",
    "import pystan \n",
    "import pandas as pd\n",
    "import seaborn as sns\n",
    "from matplotlib.backends.backend_pdf import PdfPages\n",
    "import pickle\n",
    "from scipy import stats\n",
    "from tqdm.notebook import tqdm as tqdm\n",
    "from matplotlib.patches import Ellipse\n",
    "from scipy.special import beta as B\n",
    "from concurrent.futures import ProcessPoolExecutor"
   ]
  },
  {
   "cell_type": "code",
   "execution_count": 2,
   "metadata": {},
   "outputs": [],
   "source": [
    "Iteration = 100000000\n",
    "IterationDevide = int(Iteration/500000)"
   ]
  },
  {
   "cell_type": "code",
   "execution_count": 3,
   "metadata": {},
   "outputs": [],
   "source": [
    "def PackageSize():\n",
    "    return 1000 ###(mL)"
   ]
  },
  {
   "cell_type": "code",
   "execution_count": 4,
   "metadata": {},
   "outputs": [],
   "source": [
    "def SEEDS(seed):\n",
    "    seeds = seed\n",
    "    if seeds > 2**32 - 1:\n",
    "        seeds = seeds/0.9 - 2**32\n",
    "        if seeds > 2**32 - 1:\n",
    "            seeds = seeds/0.9 - 2**32\n",
    "            if seeds > 2**32 - 1:\n",
    "                seeds = seeds/0.9 - 2**32\n",
    "                if seeds > 2**32 - 1:\n",
    "                    seeds = seeds/0.9 - 2**32\n",
    "                    if seeds > 2**32 - 1:\n",
    "                        seeds = seeds/0.9 - 2**32\n",
    "                        if seeds > 2**32 - 1:\n",
    "                            seeds = seeds/0.9 - 2**32\n",
    "    np.random.seed(round(seeds))\n",
    "    DecidedSeed = np.random.randint(0, 2**32)\n",
    "    return DecidedSeed"
   ]
  },
  {
   "cell_type": "code",
   "execution_count": null,
   "metadata": {},
   "outputs": [],
   "source": []
  },
  {
   "cell_type": "code",
   "execution_count": 5,
   "metadata": {},
   "outputs": [],
   "source": [
    "def PERT(a,b,c,seed):\n",
    "    np.random.seed(SEEDS(seed))\n",
    "    return a+(c-a)*np.random.beta(1+4*(b-a)/(c-a), 1+4*(c-b)/(c-a), size=1)"
   ]
  },
  {
   "cell_type": "code",
   "execution_count": 6,
   "metadata": {},
   "outputs": [],
   "source": [
    "def Prevalence_InitialCount(seed):\n",
    "    np.random.seed(SEEDS(seed))\n",
    "    Classification_ID = np.random.randint(0,2)\n",
    "    seed = seed + 1\n",
    "    if Classification_ID == 0:\n",
    "        Pre_P = 0.0222146854332712\n",
    "        X = [0.4, 1, 10, 100, 1000, 10000]\n",
    "        P = [0, 0.127627287, 0.82198086, 0.904286094, 0.941356302, 1]\n",
    "        np.random.seed(SEEDS(seed))\n",
    "        p = np.random.uniform(np.min(P), np.max(P))\n",
    "        seed = seed + 1\n",
    "        for i in range(len(P)):\n",
    "            if i==np.max(range(len(P))):\n",
    "                p = p\n",
    "            else:\n",
    "                    if ((P[i]<= p)&(p<P[i+1])):\n",
    "                        if X[i]==0:\n",
    "                            np.random.seed(SEEDS(seed))\n",
    "                            N_initial = np.random.uniform(X[i], X[i+1])\n",
    "                            seed = seed + 1\n",
    "                        else:\n",
    "                            np.random.seed(SEEDS(seed))\n",
    "                            N_initial = 10**np.random.uniform(np.log10(X[i]), np.log10(X[i+1]))\n",
    "                            seed = seed + 1\n",
    "        \n",
    "\n",
    "    if Classification_ID == 1:\n",
    "        Pre_P = 0.0323275862068966\n",
    "        X = [5.09304E-08, 1.89123E-07, 7.29106E-07, 2.81085E-06, 1.08364E-05, 4.02394E-05, 0.000155131, 0.000620902, 0.002305636, 0.008888679, 0.033006893, 0.127248058, 0.490566259, 1.821650746, 6.764451044, 28.10847015, 104.3769617, 402.3936911, 1494.233968]\n",
    "        P = [0.00000939410713882217, 0.000028403016635518, 0.0000561662968647522, 0.000143298898365032, 0.000608585201471365, 0.0017886907659385, 0.00697796127721843, 0.0163545637122337, 0.0602855872788407, 0.14951524425208, 0.415249566701753, 0.775943942187806, 0.948255294880887, 0.974127647440443, 1, 1, 1, 1, 1]\n",
    "        np.random.seed(SEEDS(seed))\n",
    "        p = np.random.uniform(np.min(P), np.max(P), size=1)\n",
    "        seed = seed + 1\n",
    "        \n",
    "        for i in range(len(P)):\n",
    "            if i==np.max(range(len(P))):\n",
    "                p = p\n",
    "            else:\n",
    "                    if ((P[i]<= p)&(p<P[i+1])):\n",
    "                        if X[i]==0:\n",
    "                            np.random.seed(SEEDS(seed))\n",
    "                            N_initial = np.random.uniform(X[i], X[i+1])\n",
    "                            seed = seed + 1\n",
    "                        else:\n",
    "                            np.random.seed(SEEDS(seed))\n",
    "                            N_initial = 10**np.random.uniform(np.log10(X[i]), np.log10(X[i+1]))\n",
    "                            seed = seed + 1\n",
    "        \n",
    "\n",
    "    return Pre_P, N_initial # (-), cfu/mL"
   ]
  },
  {
   "cell_type": "code",
   "execution_count": 7,
   "metadata": {},
   "outputs": [
    {
     "data": {
      "text/plain": [
       "(0.0222146854332712, 1.1369711988855444)"
      ]
     },
     "execution_count": 7,
     "metadata": {},
     "output_type": "execute_result"
    }
   ],
   "source": [
    "Prevalence_InitialCount(5)"
   ]
  },
  {
   "cell_type": "code",
   "execution_count": 8,
   "metadata": {},
   "outputs": [],
   "source": [
    "def MPD(seed):\n",
    "    np.random.seed(SEEDS(seed))\n",
    "    Max = np.random.uniform(7.5, 8.5, size=1)\n",
    "    return Max[0] #cfu/mL"
   ]
  },
  {
   "cell_type": "code",
   "execution_count": 9,
   "metadata": {},
   "outputs": [],
   "source": [
    "root_growth_rate_mean = pickle.load(open('../Growth/growth rate mean.pkl', 'rb'))\n",
    "sm_µ_max = pickle.load(open('../Growth/stan_model_µ_max.pkl', 'rb'))\n",
    "fit_nuts_µ_max = pickle.load(open('../Growth/fit_nuts_µ_max.pkl', 'rb'))\n",
    "samples_µ_max = fit_nuts_µ_max.extract(permuted=True)\n",
    "Temp_ref_growth = 8.518181818181818\n",
    "\n",
    "\n",
    "def Para_growth(seed):\n",
    "    np.random.seed(SEEDS(seed))\n",
    "    rcn = np.random.randint(0,len(samples_µ_max [\"lp__\"]))\n",
    "    mu_ref = samples_µ_max[\"mu_ref\"][rcn]\n",
    "    T_min = samples_µ_max[\"T_min\"][rcn]\n",
    "    s_mu = samples_µ_max[\"s_mu\"][rcn]\n",
    "    return [mu_ref, T_min, s_mu] "
   ]
  },
  {
   "cell_type": "code",
   "execution_count": 10,
   "metadata": {},
   "outputs": [],
   "source": [
    "def root_mu_median(Temp):\n",
    "    for k in range(len(root_growth_rate_mean[:,0])-1):\n",
    "        if ((root_growth_rate_mean[k,0] <= Temp)&(Temp < root_growth_rate_mean[k+1,0])):\n",
    "            out = (root_growth_rate_mean[k,1]+(root_growth_rate_mean[k+1,1]-root_growth_rate_mean[k,1])*(Temp-root_growth_rate_mean[k,0]))\n",
    "    return out"
   ]
  },
  {
   "cell_type": "code",
   "execution_count": 11,
   "metadata": {},
   "outputs": [
    {
     "data": {
      "text/plain": [
       "-0.07915413223562695"
      ]
     },
     "execution_count": 11,
     "metadata": {},
     "output_type": "execute_result"
    }
   ],
   "source": [
    "root_mu_median(-9)"
   ]
  },
  {
   "cell_type": "code",
   "execution_count": 12,
   "metadata": {},
   "outputs": [],
   "source": [
    "def OnFarm(seed):\n",
    "    Classification_ID = 0\n",
    "    if Classification_ID == 0:\n",
    "        X = [-0.25,0.25,0.75,1.25,1.75,2.25,2.75,3.25,3.75,4.25,4.75,5.25,5.75,6.25,6.75,7.25,7.75,8.25,8.75,9.25,9.75,10.25,10.75,11.25,11.75,12.25]\n",
    "        P = [0,0.000792016,0.000792016,0.003009663,0.011246634,0.062886108,0.150641533,0.355140187,0.555837161,0.722794234,0.809282433,0.866624426,0.909710122,0.941707588,0.962141613,0.982734041,0.989703786,0.993980675,0.996515128,0.998732774,0.999207984,0.999683193,0.999841597,0.999841597,0.999841597,1.]\n",
    "        np.random.seed(SEEDS(seed))\n",
    "        p = np.random.uniform(np.min(P), np.max(P))\n",
    "        seed = seed + 1\n",
    "        for i in range(len(P)):\n",
    "            if i==np.max(range(len(P))):\n",
    "                p = p\n",
    "            else:\n",
    "                if ((P[i]<= p)&(p<P[i+1])):\n",
    "                    np.random.seed(SEEDS(seed))\n",
    "                    Temp = np.random.uniform(X[i], X[i+1])\n",
    "                    seed = seed + 1\n",
    "\n",
    "        np.random.seed(SEEDS(seed))\n",
    "        Time = PERT(1.5, 12, 36, seed)[0]\n",
    "\n",
    "    return Temp, Time"
   ]
  },
  {
   "cell_type": "code",
   "execution_count": 13,
   "metadata": {},
   "outputs": [],
   "source": [
    "def Unc_heat_temp(seed):\n",
    "    np.random.seed(SEEDS(seed))\n",
    "    CHOICE_UNC = np.random.randint(0,4)\n",
    "    unc_list = [0.05, 0.25, 0.5, 1]\n",
    "    unc = unc_list[CHOICE_UNC]\n",
    "    return unc"
   ]
  },
  {
   "cell_type": "code",
   "execution_count": 14,
   "metadata": {},
   "outputs": [],
   "source": [
    "def Temp_uncertainty(Temp, seed):\n",
    "    \n",
    "    Classification_ID = 0\n",
    "    if Classification_ID == 0:\n",
    "        a = Temp-Unc_heat_temp(seed)\n",
    "        b = Temp\n",
    "        c = Temp+Unc_heat_temp(seed)\n",
    "        Temp_unc = PERT(a, b, c, seed)\n",
    "    return Temp_unc[0]"
   ]
  },
  {
   "cell_type": "code",
   "execution_count": null,
   "metadata": {},
   "outputs": [],
   "source": []
  },
  {
   "cell_type": "code",
   "execution_count": 15,
   "metadata": {},
   "outputs": [],
   "source": [
    "logD_mean = pickle.load(open('../reduction/LogD mean.pkl', 'rb'))\n",
    "sm_metadata_D = pickle.load(open('../reduction/stan_model_D.pkl', 'rb'))\n",
    "fit_nuts_metadata_D = pickle.load(open('../reduction/fit_nuts_metadata_D.pkl', 'rb'))\n",
    "samples_metadata_D = fit_nuts_metadata_D.extract(permuted=True)\n",
    "Temp_ref_heat = 62.33197115384615\n",
    "\n",
    "\n",
    "def Para_reduction(seed):\n",
    "    np.random.seed(SEEDS(seed))\n",
    "    rcn = np.random.randint(0,len(samples_metadata_D[\"lp__\"]))\n",
    "    z = samples_metadata_D[\"z\"][rcn]\n",
    "    LogD_ref = np.log10(samples_metadata_D[\"D_ref\"][rcn])\n",
    "    s_LogD = samples_metadata_D[\"s_logD\"][rcn]\n",
    "    return [z, LogD_ref, s_LogD, rcn] #SecondPara: [z, LogD_ref, beta_ref, rcn]"
   ]
  },
  {
   "cell_type": "code",
   "execution_count": 16,
   "metadata": {},
   "outputs": [],
   "source": [
    "def HeatTimeVariability(sec, val_rate, seed):\n",
    "    \n",
    "    OUT = PERT(sec*(1-val_rate), sec, sec*(1+val_rate), seed)[0]\n",
    "    return OUT"
   ]
  },
  {
   "cell_type": "code",
   "execution_count": 17,
   "metadata": {},
   "outputs": [],
   "source": [
    "def Heat(seed):\n",
    "    np.random.seed(SEEDS(seed))\n",
    "    Classification_ID = np.random.randint(0,4)\n",
    "    if Classification_ID == 0:\n",
    "        Temp_heat = 72.\n",
    "        Time = 15.\n",
    "    if Classification_ID == 3:\n",
    "        Temp_heat = 75.\n",
    "        Time = 20.\n",
    "    if Classification_ID == 4:\n",
    "        Temp_heat = 85.\n",
    "        Time = 20.\n",
    "    if Classification_ID == 5:\n",
    "        Temp_heat = 89.\n",
    "        Time = 1.\n",
    "    if Classification_ID == 2:\n",
    "        Temp_heat = 74.\n",
    "        Time = 20.\n",
    "    if Classification_ID == 1:\n",
    "        Temp_heat = 72.5\n",
    "        Time = 20.\n",
    "        \n",
    "    return [Temp_heat, Time] #ºC, sec"
   ]
  },
  {
   "cell_type": "code",
   "execution_count": 18,
   "metadata": {},
   "outputs": [],
   "source": [
    "def Distributing(seed):\n",
    "    np.random.seed(SEEDS(seed))\n",
    "    Classification_ID = 0\n",
    "    if Classification_ID == 0:\n",
    "        Temp = np.random.normal(6.66, 1.64)\n",
    "        seed = seed + 1\n",
    "        np.random.seed(SEEDS(seed))\n",
    "        Time = 4.33*np.random.weibull(1.98)\n",
    "    return Temp, Time #(h)"
   ]
  },
  {
   "cell_type": "code",
   "execution_count": 19,
   "metadata": {},
   "outputs": [],
   "source": [
    "def Val_ratio(seed):\n",
    "    np.random.seed(SEEDS(seed))\n",
    "    CHOICE_VAL = np.random.randint(0,4)\n",
    "    ratio_list = [0.01, 0.05, 0.1, 0.25]\n",
    "    ratio = ratio_list[CHOICE_VAL]\n",
    "    return ratio"
   ]
  },
  {
   "cell_type": "code",
   "execution_count": 20,
   "metadata": {},
   "outputs": [],
   "source": [
    "def Retail(seed):\n",
    "    np.random.seed(SEEDS(seed))\n",
    "    \n",
    "    Classification_ID = 0\n",
    "    if Classification_ID == 0:\n",
    "        Temp = np.random.normal(4.98, 2.9)\n",
    "        seed = seed + 1\n",
    "        np.random.seed(SEEDS(seed))\n",
    "        X = [0, 5, 15, 25, 35, 45, 55, 65, 75, 85, 95, 105]\n",
    "        P = [0, 0.019811321, 0.443396226, 0.717924528, 0.85,0.916037736,0.950943396,0.969811321,0.982075472,0.99245283,0.997169811,1.]\n",
    "        p = np.random.uniform(np.min(P), np.max(P), size=1)\n",
    "        seed = seed + 1\n",
    "        np.random.seed(SEEDS(seed))\n",
    "        for i in range(len(P)):\n",
    "            if i==np.max(range(len(P))):\n",
    "                p = p\n",
    "            else:\n",
    "                if ((P[i]<= p)&(p<P[i+1])):\n",
    "                    Time = np.random.uniform(X[i], X[i+1])\n",
    "    return Temp, Time #(h)"
   ]
  },
  {
   "cell_type": "code",
   "execution_count": null,
   "metadata": {},
   "outputs": [],
   "source": []
  },
  {
   "cell_type": "code",
   "execution_count": 21,
   "metadata": {},
   "outputs": [],
   "source": [
    "def Domestic(seed):\n",
    "    \n",
    "    np.random.seed(SEEDS(seed))\n",
    "    Classification_ID = 0\n",
    "    if Classification_ID == 0:\n",
    "        P = [0., 0.25, 0.25+0.19, 0.25+0.19+0.05, 0.25+0.19+0.05+0.51]\n",
    "        p = np.random.uniform(np.min(P), np.max(P), size=1)\n",
    "        seed = seed + 1\n",
    "        np.random.seed(SEEDS(seed))\n",
    "        mean = [7.57, 6.31, 6.69, 8.40]\n",
    "        sd = [2.95, 2.66, 3.29, 3.00]\n",
    "        for i in range(len(P)):\n",
    "            if i==np.max(range(len(P))):\n",
    "                p = p\n",
    "            else:\n",
    "                if ((P[i]<= p)&(p<P[i+1])):\n",
    "                    Temp = np.random.normal(mean[i], sd[i])\n",
    "                    seed = seed + 1\n",
    "                    np.random.seed(SEEDS(seed))\n",
    "        X = [0, 24, 48, 72, 96, 120]\n",
    "        P = [0, .23, .74, .96, .98, 1.]\n",
    "        p = np.random.uniform(np.min(P), np.max(P))\n",
    "        seed = seed + 1\n",
    "        np.random.seed(SEEDS(seed))\n",
    "        for i in range(len(P)):\n",
    "            if i==np.max(range(len(P))):\n",
    "                p = p\n",
    "            else:\n",
    "                if ((P[i]<= p)&(p<P[i+1])):\n",
    "                    Time = np.random.uniform(X[i], X[i+1])\n",
    "    return Temp, Time #(h)"
   ]
  },
  {
   "cell_type": "code",
   "execution_count": null,
   "metadata": {},
   "outputs": [],
   "source": []
  },
  {
   "cell_type": "code",
   "execution_count": null,
   "metadata": {},
   "outputs": [],
   "source": []
  },
  {
   "cell_type": "code",
   "execution_count": 22,
   "metadata": {},
   "outputs": [],
   "source": [
    "def Size_serve(seed):\n",
    "    np.random.seed(SEEDS(seed))\n",
    "    \n",
    "    Classification_ID = 0\n",
    "    if Classification_ID == 0:\n",
    "        X = [0./1.025, 244/1.025, 245/1.025, 488/1.025, 732/1.025]\n",
    "        P = [0., 0.50, .75,  .95, 1.0]\n",
    "        p = np.random.uniform(np.min(P), np.max(P))\n",
    "        seed = seed + 1\n",
    "        np.random.seed(SEEDS(seed))\n",
    "        for i in range(len(P)):\n",
    "            if i==np.max(range(len(P))):\n",
    "                p = p\n",
    "            else:\n",
    "                if ((P[i]<= p)&(p<P[i+1])):\n",
    "                    Sizeserve = np.random.uniform(X[i], X[i+1])\n",
    "    return Sizeserve   #mL"
   ]
  },
  {
   "cell_type": "code",
   "execution_count": 23,
   "metadata": {},
   "outputs": [],
   "source": [
    "def Para_R(seed):\n",
    "    np.random.seed(SEEDS(seed))\n",
    "    \n",
    "    P = [0, 0.8228571428571428, 0.8285714285714285, 1.0] #(3.60*10**8, 2.5*10**6, 7.5*10**7)\n",
    "    p = np.random.uniform(np.min(P), np.max(P), size=1)\n",
    "    seed = seed + 1\n",
    "    np.random.seed(SEEDS(seed))\n",
    "    if ((p>=P[0])&(p<P[1])):\n",
    "        PR = 7.9*10**-12\n",
    "        PR = 10**(np.random.normal(-14.11, 1.62))\n",
    "        CLASS = 1\n",
    "    if ((p>=P[1])&(p<P[2])):\n",
    "        PR = 2.01*10**-9\n",
    "        PR = 10**(np.random.normal(-11.70, 1.62))\n",
    "        CLASS = 2\n",
    "    if ((p>=P[2])&(p<P[3])):\n",
    "        PR = 1.49*10**-10\n",
    "        PR = 10**(np.random.normal(-12.83, 1.62))\n",
    "        CLASS = 3\n",
    "    return PR, CLASS"
   ]
  },
  {
   "cell_type": "code",
   "execution_count": 24,
   "metadata": {},
   "outputs": [],
   "source": [
    "Servings_per_year = 3.6*10**8"
   ]
  },
  {
   "cell_type": "code",
   "execution_count": null,
   "metadata": {},
   "outputs": [],
   "source": []
  },
  {
   "cell_type": "code",
   "execution_count": 25,
   "metadata": {},
   "outputs": [],
   "source": [
    "def QMRA_simulations(seed):\n",
    "    warnings.simplefilter('ignore', RuntimeWarning)\n",
    "    prevalence_initialcount = Prevalence_InitialCount(seed)\n",
    "    seed = seed + 5\n",
    "    np.random.seed(SEEDS(seed))\n",
    "    prevalence  = prevalence_initialcount[0]\n",
    "    prevalence_or_not = np.random.binomial(n = 1, p = prevalence )\n",
    "    seed = seed + 5\n",
    "    np.random.seed(SEEDS(seed))\n",
    "    package_size = PackageSize()\n",
    "    \n",
    "    if prevalence_or_not == 1:\n",
    "        \n",
    "        mpd = MPD(seed)\n",
    "        seed = seed + 5\n",
    "        \n",
    "        logC0  = np.log10(prevalence_initialcount[1])   #log cfu/mL\n",
    "        para_growth = Para_growth(seed)   #[mu_ref, T_min, s_mu] \n",
    "        seed = seed + 5\n",
    "        np.random.seed(SEEDS(seed))\n",
    "        mu_ref = para_growth[0]\n",
    "        temp_min = para_growth[1]\n",
    "        s_mu = para_growth[2]\n",
    "        \n",
    "        onfarm = OnFarm(seed)\n",
    "        seed = seed + 5\n",
    "        np.random.seed(SEEDS(seed))\n",
    "        temp_pre  = onfarm[0]\n",
    "        time_pre  = onfarm[1]   #(h)\n",
    "        \n",
    "        root_mu0_pre = (mu_ref**0.5)*(((temp_pre -temp_min)/(Temp_ref_growth-temp_min)))\n",
    "        sigma_mu_root = np.random.normal(0, s_mu)\n",
    "        seed = seed + 5\n",
    "        np.random.seed(SEEDS(seed))\n",
    "        root_mu_pre = root_mu0_pre + sigma_mu_root\n",
    "        root_mu_pre = np.max([root_mu_pre, 0])\n",
    "        mu_pre = root_mu_pre**2.\n",
    "        mu_pre_variability  = root_mu_pre - np.max([root_mu_median(temp_pre), 0])\n",
    "                \n",
    "        logC_pre  = np.min((np.maximum(logC0, mpd), logC0 + mu_pre*time_pre))\n",
    "        seed = seed + 5\n",
    "        np.random.seed(SEEDS(seed))\n",
    "    \n",
    "        para_redcution = Para_reduction(seed) #[z, LogD_ref, s_LogD, rcn] \n",
    "        seed = seed + 5\n",
    "        np.random.seed(SEEDS(seed))\n",
    "        z = para_redcution[0]\n",
    "        logD_ref = para_redcution[1]\n",
    "        s_LogD = para_redcution[2]\n",
    "        rcn_reduction = para_redcution[3]\n",
    "    \n",
    "        heat = Heat(seed)   #[temp_heat [0], Time[0]] #ºC, sec\n",
    "        seed = seed + 5\n",
    "        np.random.seed(SEEDS(seed))\n",
    "        temp_mean_heat  = heat[0]\n",
    "        time_mean_heat  = heat[1]\n",
    "        \n",
    "        temp_heat  = Temp_uncertainty(temp_mean_heat, seed)\n",
    "        seed = seed + 5\n",
    "        np.random.seed(SEEDS(seed))\n",
    "        val_ratio = Val_ratio(seed)\n",
    "        seed = seed + 5\n",
    "        np.random.seed(SEEDS(seed))\n",
    "        time_heat  = HeatTimeVariability(time_mean_heat, val_ratio, seed)\n",
    "        seed = seed + 5\n",
    "        np.random.seed(SEEDS(seed))\n",
    "        \n",
    "        heat_time_variability  = time_heat - time_mean_heat \n",
    "        heat_temp_uncertainty  = temp_heat - temp_mean_heat \n",
    "    \n",
    "        logD0 = -(temp_heat - Temp_ref_heat)/z + logD_ref\n",
    "        logD = np.random.normal(logD0, s_LogD)\n",
    "        seed = seed + 5\n",
    "        np.random.seed(SEEDS(seed))\n",
    "        D = 10**logD\n",
    "        \n",
    "        for k in range(len(logD_mean[:,0])-1):\n",
    "            if ((logD_mean[k,0] <= temp_heat )&(temp_heat  < logD_mean[k+1,0])):\n",
    "                logD_variability  = logD - (logD_mean[k,1]+(logD_mean[k+1,1] - logD_mean[k,1])*(temp_heat - logD_mean[k,0]))\n",
    "    \n",
    "        logC_heat = logC_pre - (time_heat/D/60)\n",
    "        C_heat = 10**(logC_heat)\n",
    "        N_heat_packed = np.random.poisson(C_heat*package_size)\n",
    "        seed = seed + 5\n",
    "        np.random.seed(SEEDS(seed))\n",
    "        C_heat_packed = N_heat_packed/package_size\n",
    "        logC_heat_packed = np.log10(C_heat_packed)\n",
    "        \n",
    "        distributing = Distributing(seed)\n",
    "        seed = seed + 5\n",
    "        np.random.seed(SEEDS(seed))\n",
    "        temp_dist = distributing[0]\n",
    "        time_dist = distributing[1]\n",
    "        \n",
    "        root_mu0_dist = (mu_ref**0.5)*(((temp_dist -temp_min)/(Temp_ref_growth-temp_min)))\n",
    "        sigma_mu_root = np.random.normal(0, s_mu)\n",
    "        seed = seed + 5\n",
    "        np.random.seed(SEEDS(seed))\n",
    "        root_mu_dist =  root_mu0_dist + sigma_mu_root\n",
    "        root_mu_dist = np.max([root_mu_dist, 0])\n",
    "        mu_dist = root_mu_dist**2.\n",
    "        mu_dist_variability  = root_mu_dist - np.max([root_mu_median(temp_dist), 0])\n",
    "        \n",
    "        cap = round(package_size*10**mpd)\n",
    "        seed = seed + 5\n",
    "        np.random.seed(SEEDS(seed))\n",
    "        if N_heat_packed == 0:\n",
    "            N_dist = 0\n",
    "        elif N_heat_packed >= cap:\n",
    "            N_dist = N_heat_packed\n",
    "        else:\n",
    "            delta_N = np.random.negative_binomial(N_heat_packed, 10**(-mu_dist*time_dist), size=1)[0]\n",
    "            N_dist = np.min([N_heat_packed + delta_N, cap])\n",
    "        seed = seed + 5\n",
    "        np.random.seed(SEEDS(seed))\n",
    "        C_dist = N_dist/package_size\n",
    "        logC_dist = np.log10(C_dist)\n",
    "        \n",
    "        retail = Retail(seed)\n",
    "        seed = seed + 5\n",
    "        np.random.seed(SEEDS(seed))\n",
    "        temp_retail  = retail[0]\n",
    "        time_retail  = retail[1]\n",
    "        \n",
    "        root_mu0_retail = (mu_ref**0.5)*(((temp_retail -temp_min)/(Temp_ref_growth-temp_min)))\n",
    "        sigma_mu_root = np.random.normal(0, s_mu)\n",
    "        seed = seed + 5\n",
    "        np.random.seed(SEEDS(seed))\n",
    "        root_mu_retail = root_mu0_retail + sigma_mu_root\n",
    "        root_mu_retail = np.max([root_mu_retail, 0])\n",
    "        mu_retail = root_mu_retail**2.\n",
    "        mu_retail_variability  = root_mu_retail - np.max([root_mu_median(temp_retail), 0])\n",
    "        \n",
    "        cap = round(package_size*10**mpd)\n",
    "        seed = seed + 5\n",
    "        np.random.seed(SEEDS(seed))\n",
    "        if N_dist == 0:\n",
    "            N_retail = 0\n",
    "        elif N_dist >= cap:\n",
    "            N_retail = N_dist\n",
    "        else:\n",
    "            N_retail = N_dist + np.random.negative_binomial(N_dist, 10**(-mu_retail*time_retail), size=1)[0]\n",
    "            N_retail = np.min([N_retail, cap])\n",
    "        seed = seed + 5\n",
    "        np.random.seed(SEEDS(seed))\n",
    "        C_retail = N_retail/package_size\n",
    "        logC_retail = np.log10(C_retail)\n",
    "        \n",
    "        domestic = Domestic(seed)\n",
    "        seed = seed + 5\n",
    "        np.random.seed(SEEDS(seed))\n",
    "        temp_domestic = domestic[0]\n",
    "        time_domestic = domestic[1]\n",
    "    \n",
    "        root_mu0_domestic = (mu_ref**0.5)*(((temp_domestic -temp_min)/(Temp_ref_growth-temp_min)))\n",
    "        sigma_mu_root = np.random.normal(0, s_mu)\n",
    "        seed = seed + 5\n",
    "        np.random.seed(SEEDS(seed))\n",
    "        root_mu_domestic = root_mu0_domestic + sigma_mu_root\n",
    "        root_mu_domestic = np.max([root_mu_domestic, 0])\n",
    "        mu_domestic = root_mu_domestic**2.\n",
    "        mu_domestic_variability  = root_mu_domestic - np.max([root_mu_median(temp_domestic), 0])\n",
    "        \n",
    "        cap = round(package_size*10**mpd)\n",
    "        seed = seed + 5\n",
    "        np.random.seed(SEEDS(seed))\n",
    "        if N_retail == 0:\n",
    "            N_domestic = 0\n",
    "        elif N_retail >= cap:\n",
    "            N_domestic = N_retail\n",
    "        else:\n",
    "            N_domestic = N_retail + np.random.negative_binomial(N_retail, 10**(-mu_domestic*time_domestic), size=1)[0]\n",
    "            N_domestic = np.min([N_domestic, cap])\n",
    "        seed = seed + 5\n",
    "        np.random.seed(SEEDS(seed))\n",
    "        \n",
    "        C_domestic = N_domestic/package_size\n",
    "        logC_domestic = np.log10(C_domestic)\n",
    "            \n",
    "        size_serve  = Size_serve(seed)\n",
    "        seed = seed + 5\n",
    "        np.random.seed(SEEDS(seed))\n",
    "        N_dose = np.random.poisson(C_domestic*size_serve)\n",
    "        seed = seed + 5\n",
    "        np.random.seed(SEEDS(seed))\n",
    "        logN_dose = np.log10(N_dose)\n",
    "        \n",
    "        Para_r = Para_R(seed)\n",
    "        para_r = Para_r[0]\n",
    "        subject_class = Para_r[1]\n",
    "        seed = seed + 5\n",
    "        np.random.seed(SEEDS(seed))\n",
    "        \n",
    "        P_serve = prevalence_or_not*np.float64(1-np.exp(-para_r*N_dose))\n",
    "        \n",
    "        Ill_or_not  = np.random.binomial(n=1, p = P_serve)\n",
    "    \n",
    "    if prevalence_or_not == 0:\n",
    "        logC0 = -float('inf')\n",
    "        mpd = 0\n",
    "        logC_pre = -float('inf')\n",
    "        logC_heat_packed = -float('inf')\n",
    "        logC_heat = -float('inf')\n",
    "        logC_dist = -float('inf')\n",
    "        logC_retail = -float('inf')\n",
    "        logC_domestic = -float('inf')\n",
    "        logN_dose = -float('inf')\n",
    "        P_serve = 0\n",
    "        Ill_or_not = 0\n",
    "        temp_pre = 0\n",
    "        time_pre = 0\n",
    "        temp_heat = 0\n",
    "        time_heat = 0\n",
    "        temp_mean_heat = 0\n",
    "        time_mean_heat = 0\n",
    "        heat_time_variability = 0\n",
    "        heat_temp_uncertainty = 0\n",
    "        temp_dist = 0\n",
    "        time_dist = 0\n",
    "        time_retail = 0\n",
    "        temp_retail = 0\n",
    "        time_domestic = 0\n",
    "        temp_domestic = 0\n",
    "        mu_pre_variability = 0\n",
    "        mu_dist_variability = 0\n",
    "        mu_retail_variability = 0\n",
    "        mu_domestic_variability = 0\n",
    "        logD_variability = 0\n",
    "        size_serve = 0\n",
    "        para_r = 0\n",
    "        subject_class = 0\n",
    "    return [prevalence, logC0, logC_pre, logC_heat, logC_dist, logC_retail, logC_domestic, logN_dose, P_serve, prevalence_or_not, Ill_or_not, temp_pre, time_pre, temp_heat, time_heat, temp_mean_heat, time_mean_heat, heat_time_variability, heat_temp_uncertainty, temp_dist, time_dist, time_retail, temp_retail, time_domestic, temp_domestic, mu_pre_variability, mu_dist_variability, mu_retail_variability, mu_domestic_variability, logD_variability, size_serve, para_r, subject_class, logC_heat_packed, mpd]"
   ]
  },
  {
   "cell_type": "code",
   "execution_count": 26,
   "metadata": {
    "scrolled": false
   },
   "outputs": [
    {
     "data": {
      "application/vnd.jupyter.widget-view+json": {
       "model_id": "",
       "version_major": 2,
       "version_minor": 0
      },
      "text/plain": [
       "Progress:   0%|          | 0/30 [00:00<?, ?it/s]"
      ]
     },
     "metadata": {},
     "output_type": "display_data"
    },
    {
     "data": {
      "application/vnd.jupyter.widget-view+json": {
       "model_id": "",
       "version_major": 2,
       "version_minor": 0
      },
      "text/plain": [
       "Progress:   0%|          | 0/200 [00:00<?, ?it/s]"
      ]
     },
     "metadata": {},
     "output_type": "display_data"
    },
    {
     "name": "stdout",
     "output_type": "stream",
     "text": [
      "処理時間:4.609hours\n"
     ]
    },
    {
     "data": {
      "application/vnd.jupyter.widget-view+json": {
       "model_id": "",
       "version_major": 2,
       "version_minor": 0
      },
      "text/plain": [
       "Progress:   0%|          | 0/200 [00:00<?, ?it/s]"
      ]
     },
     "metadata": {},
     "output_type": "display_data"
    },
    {
     "name": "stdout",
     "output_type": "stream",
     "text": [
      "Copy Num: 31 !!! illness !!!\n",
      "処理時間:9.206hours\n"
     ]
    },
    {
     "data": {
      "application/vnd.jupyter.widget-view+json": {
       "model_id": "",
       "version_major": 2,
       "version_minor": 0
      },
      "text/plain": [
       "Progress:   0%|          | 0/200 [00:00<?, ?it/s]"
      ]
     },
     "metadata": {},
     "output_type": "display_data"
    },
    {
     "name": "stdout",
     "output_type": "stream",
     "text": [
      "処理時間:13.801hours\n"
     ]
    },
    {
     "data": {
      "application/vnd.jupyter.widget-view+json": {
       "model_id": "",
       "version_major": 2,
       "version_minor": 0
      },
      "text/plain": [
       "Progress:   0%|          | 0/200 [00:00<?, ?it/s]"
      ]
     },
     "metadata": {},
     "output_type": "display_data"
    },
    {
     "name": "stdout",
     "output_type": "stream",
     "text": [
      "Copy Num: 33 !!! illness !!!\n",
      "処理時間:18.399hours\n"
     ]
    },
    {
     "data": {
      "application/vnd.jupyter.widget-view+json": {
       "model_id": "",
       "version_major": 2,
       "version_minor": 0
      },
      "text/plain": [
       "Progress:   0%|          | 0/200 [00:00<?, ?it/s]"
      ]
     },
     "metadata": {},
     "output_type": "display_data"
    },
    {
     "name": "stdout",
     "output_type": "stream",
     "text": [
      "処理時間:22.997hours\n"
     ]
    },
    {
     "data": {
      "application/vnd.jupyter.widget-view+json": {
       "model_id": "",
       "version_major": 2,
       "version_minor": 0
      },
      "text/plain": [
       "Progress:   0%|          | 0/200 [00:00<?, ?it/s]"
      ]
     },
     "metadata": {},
     "output_type": "display_data"
    },
    {
     "name": "stdout",
     "output_type": "stream",
     "text": [
      "処理時間:27.602hours\n"
     ]
    },
    {
     "data": {
      "application/vnd.jupyter.widget-view+json": {
       "model_id": "",
       "version_major": 2,
       "version_minor": 0
      },
      "text/plain": [
       "Progress:   0%|          | 0/200 [00:00<?, ?it/s]"
      ]
     },
     "metadata": {},
     "output_type": "display_data"
    },
    {
     "name": "stdout",
     "output_type": "stream",
     "text": [
      "Copy Num: 36 !!! illness !!!\n",
      "処理時間:32.206hours\n"
     ]
    },
    {
     "data": {
      "application/vnd.jupyter.widget-view+json": {
       "model_id": "",
       "version_major": 2,
       "version_minor": 0
      },
      "text/plain": [
       "Progress:   0%|          | 0/200 [00:00<?, ?it/s]"
      ]
     },
     "metadata": {},
     "output_type": "display_data"
    },
    {
     "name": "stdout",
     "output_type": "stream",
     "text": [
      "Copy Num: 37 !!! illness !!!\n",
      "処理時間:36.807hours\n"
     ]
    },
    {
     "data": {
      "application/vnd.jupyter.widget-view+json": {
       "model_id": "",
       "version_major": 2,
       "version_minor": 0
      },
      "text/plain": [
       "Progress:   0%|          | 0/200 [00:00<?, ?it/s]"
      ]
     },
     "metadata": {},
     "output_type": "display_data"
    },
    {
     "name": "stdout",
     "output_type": "stream",
     "text": [
      "Copy Num: 38 !!! illness !!!\n",
      "処理時間:41.413hours\n"
     ]
    },
    {
     "data": {
      "application/vnd.jupyter.widget-view+json": {
       "model_id": "",
       "version_major": 2,
       "version_minor": 0
      },
      "text/plain": [
       "Progress:   0%|          | 0/200 [00:00<?, ?it/s]"
      ]
     },
     "metadata": {},
     "output_type": "display_data"
    },
    {
     "name": "stdout",
     "output_type": "stream",
     "text": [
      "処理時間:46.017hours\n"
     ]
    },
    {
     "data": {
      "application/vnd.jupyter.widget-view+json": {
       "model_id": "",
       "version_major": 2,
       "version_minor": 0
      },
      "text/plain": [
       "Progress:   0%|          | 0/200 [00:00<?, ?it/s]"
      ]
     },
     "metadata": {},
     "output_type": "display_data"
    },
    {
     "name": "stdout",
     "output_type": "stream",
     "text": [
      "Copy Num: 40 !!! illness !!!\n",
      "処理時間:50.623hours\n"
     ]
    },
    {
     "data": {
      "application/vnd.jupyter.widget-view+json": {
       "model_id": "",
       "version_major": 2,
       "version_minor": 0
      },
      "text/plain": [
       "Progress:   0%|          | 0/200 [00:00<?, ?it/s]"
      ]
     },
     "metadata": {},
     "output_type": "display_data"
    },
    {
     "name": "stdout",
     "output_type": "stream",
     "text": [
      "処理時間:55.225hours\n"
     ]
    },
    {
     "data": {
      "application/vnd.jupyter.widget-view+json": {
       "model_id": "",
       "version_major": 2,
       "version_minor": 0
      },
      "text/plain": [
       "Progress:   0%|          | 0/200 [00:00<?, ?it/s]"
      ]
     },
     "metadata": {},
     "output_type": "display_data"
    },
    {
     "name": "stdout",
     "output_type": "stream",
     "text": [
      "処理時間:59.831hours\n"
     ]
    },
    {
     "data": {
      "application/vnd.jupyter.widget-view+json": {
       "model_id": "",
       "version_major": 2,
       "version_minor": 0
      },
      "text/plain": [
       "Progress:   0%|          | 0/200 [00:00<?, ?it/s]"
      ]
     },
     "metadata": {},
     "output_type": "display_data"
    },
    {
     "name": "stdout",
     "output_type": "stream",
     "text": [
      "処理時間:64.443hours\n"
     ]
    },
    {
     "data": {
      "application/vnd.jupyter.widget-view+json": {
       "model_id": "",
       "version_major": 2,
       "version_minor": 0
      },
      "text/plain": [
       "Progress:   0%|          | 0/200 [00:00<?, ?it/s]"
      ]
     },
     "metadata": {},
     "output_type": "display_data"
    },
    {
     "name": "stdout",
     "output_type": "stream",
     "text": [
      "Copy Num: 44 !!! illness !!!\n",
      "処理時間:69.057hours\n"
     ]
    },
    {
     "data": {
      "application/vnd.jupyter.widget-view+json": {
       "model_id": "",
       "version_major": 2,
       "version_minor": 0
      },
      "text/plain": [
       "Progress:   0%|          | 0/200 [00:00<?, ?it/s]"
      ]
     },
     "metadata": {},
     "output_type": "display_data"
    },
    {
     "name": "stdout",
     "output_type": "stream",
     "text": [
      "Copy Num: 45 !!! illness !!!\n",
      "処理時間:73.677hours\n"
     ]
    },
    {
     "data": {
      "application/vnd.jupyter.widget-view+json": {
       "model_id": "",
       "version_major": 2,
       "version_minor": 0
      },
      "text/plain": [
       "Progress:   0%|          | 0/200 [00:00<?, ?it/s]"
      ]
     },
     "metadata": {},
     "output_type": "display_data"
    },
    {
     "name": "stdout",
     "output_type": "stream",
     "text": [
      "処理時間:78.293hours\n"
     ]
    },
    {
     "data": {
      "application/vnd.jupyter.widget-view+json": {
       "model_id": "",
       "version_major": 2,
       "version_minor": 0
      },
      "text/plain": [
       "Progress:   0%|          | 0/200 [00:00<?, ?it/s]"
      ]
     },
     "metadata": {},
     "output_type": "display_data"
    },
    {
     "name": "stdout",
     "output_type": "stream",
     "text": [
      "Copy Num: 47 !!! illness !!!\n",
      "処理時間:82.905hours\n"
     ]
    },
    {
     "data": {
      "application/vnd.jupyter.widget-view+json": {
       "model_id": "",
       "version_major": 2,
       "version_minor": 0
      },
      "text/plain": [
       "Progress:   0%|          | 0/200 [00:00<?, ?it/s]"
      ]
     },
     "metadata": {},
     "output_type": "display_data"
    },
    {
     "name": "stdout",
     "output_type": "stream",
     "text": [
      "Copy Num: 48 !!! illness !!!\n",
      "処理時間:87.515hours\n"
     ]
    },
    {
     "data": {
      "application/vnd.jupyter.widget-view+json": {
       "model_id": "",
       "version_major": 2,
       "version_minor": 0
      },
      "text/plain": [
       "Progress:   0%|          | 0/200 [00:00<?, ?it/s]"
      ]
     },
     "metadata": {},
     "output_type": "display_data"
    },
    {
     "name": "stdout",
     "output_type": "stream",
     "text": [
      "処理時間:92.128hours\n"
     ]
    },
    {
     "data": {
      "application/vnd.jupyter.widget-view+json": {
       "model_id": "",
       "version_major": 2,
       "version_minor": 0
      },
      "text/plain": [
       "Progress:   0%|          | 0/200 [00:00<?, ?it/s]"
      ]
     },
     "metadata": {},
     "output_type": "display_data"
    },
    {
     "name": "stdout",
     "output_type": "stream",
     "text": [
      "Copy Num: 50 !!! illness !!!\n",
      "処理時間:96.749hours\n"
     ]
    },
    {
     "data": {
      "application/vnd.jupyter.widget-view+json": {
       "model_id": "",
       "version_major": 2,
       "version_minor": 0
      },
      "text/plain": [
       "Progress:   0%|          | 0/200 [00:00<?, ?it/s]"
      ]
     },
     "metadata": {},
     "output_type": "display_data"
    },
    {
     "name": "stdout",
     "output_type": "stream",
     "text": [
      "Copy Num: 51 !!! illness !!!\n",
      "処理時間:101.366hours\n"
     ]
    },
    {
     "data": {
      "application/vnd.jupyter.widget-view+json": {
       "model_id": "",
       "version_major": 2,
       "version_minor": 0
      },
      "text/plain": [
       "Progress:   0%|          | 0/200 [00:00<?, ?it/s]"
      ]
     },
     "metadata": {},
     "output_type": "display_data"
    },
    {
     "name": "stdout",
     "output_type": "stream",
     "text": [
      "処理時間:105.979hours\n"
     ]
    },
    {
     "data": {
      "application/vnd.jupyter.widget-view+json": {
       "model_id": "",
       "version_major": 2,
       "version_minor": 0
      },
      "text/plain": [
       "Progress:   0%|          | 0/200 [00:00<?, ?it/s]"
      ]
     },
     "metadata": {},
     "output_type": "display_data"
    },
    {
     "name": "stdout",
     "output_type": "stream",
     "text": [
      "Copy Num: 53 !!! illness !!!\n",
      "処理時間:110.587hours\n"
     ]
    },
    {
     "data": {
      "application/vnd.jupyter.widget-view+json": {
       "model_id": "",
       "version_major": 2,
       "version_minor": 0
      },
      "text/plain": [
       "Progress:   0%|          | 0/200 [00:00<?, ?it/s]"
      ]
     },
     "metadata": {},
     "output_type": "display_data"
    },
    {
     "name": "stdout",
     "output_type": "stream",
     "text": [
      "処理時間:115.199hours\n"
     ]
    },
    {
     "data": {
      "application/vnd.jupyter.widget-view+json": {
       "model_id": "",
       "version_major": 2,
       "version_minor": 0
      },
      "text/plain": [
       "Progress:   0%|          | 0/200 [00:00<?, ?it/s]"
      ]
     },
     "metadata": {},
     "output_type": "display_data"
    },
    {
     "name": "stdout",
     "output_type": "stream",
     "text": [
      "Copy Num: 55 !!! illness !!!\n",
      "処理時間:119.812hours\n"
     ]
    },
    {
     "data": {
      "application/vnd.jupyter.widget-view+json": {
       "model_id": "",
       "version_major": 2,
       "version_minor": 0
      },
      "text/plain": [
       "Progress:   0%|          | 0/200 [00:00<?, ?it/s]"
      ]
     },
     "metadata": {},
     "output_type": "display_data"
    },
    {
     "name": "stdout",
     "output_type": "stream",
     "text": [
      "処理時間:124.43hours\n"
     ]
    },
    {
     "data": {
      "application/vnd.jupyter.widget-view+json": {
       "model_id": "",
       "version_major": 2,
       "version_minor": 0
      },
      "text/plain": [
       "Progress:   0%|          | 0/200 [00:00<?, ?it/s]"
      ]
     },
     "metadata": {},
     "output_type": "display_data"
    },
    {
     "name": "stdout",
     "output_type": "stream",
     "text": [
      "処理時間:129.04hours\n"
     ]
    },
    {
     "data": {
      "application/vnd.jupyter.widget-view+json": {
       "model_id": "",
       "version_major": 2,
       "version_minor": 0
      },
      "text/plain": [
       "Progress:   0%|          | 0/200 [00:00<?, ?it/s]"
      ]
     },
     "metadata": {},
     "output_type": "display_data"
    },
    {
     "name": "stdout",
     "output_type": "stream",
     "text": [
      "処理時間:133.655hours\n"
     ]
    },
    {
     "data": {
      "application/vnd.jupyter.widget-view+json": {
       "model_id": "",
       "version_major": 2,
       "version_minor": 0
      },
      "text/plain": [
       "Progress:   0%|          | 0/200 [00:00<?, ?it/s]"
      ]
     },
     "metadata": {},
     "output_type": "display_data"
    },
    {
     "name": "stdout",
     "output_type": "stream",
     "text": [
      "処理時間:138.268hours\n"
     ]
    }
   ],
   "source": [
    "start = time.time()\n",
    "sms_multi =[]\n",
    "for q in tqdm(range(30, 60, 1), desc='Progress', leave=False):\n",
    "    CopyNum = q\n",
    "    for k in tqdm(range(IterationDevide),desc='Progress', leave=False):\n",
    "        ns = range(CopyNum*Iteration+500000*k, CopyNum*Iteration+500000*(k+1))\n",
    "        with ProcessPoolExecutor(6) as e:\n",
    "            ret = e.map(QMRA_simulations, ns)\n",
    "        sms_multi_k = [r for r in ret]\n",
    "        for i in range(500000):\n",
    "            if sms_multi_k[i][10]==1:\n",
    "                print(\"Copy Num: \"+str(CopyNum)+\" !!! illness !!!\")\n",
    "        with open('pickle output/QMRA output'+str(k+CopyNum*Iteration/500000)+'.pkl', 'wb') as g:\n",
    "            pickle.dump(sms_multi_k, g)\n",
    "    end = time.time()\n",
    "    delta = end - start\n",
    "    print('処理時間:{}hours'.format(round(delta/60/60,3)))  "
   ]
  },
  {
   "cell_type": "code",
   "execution_count": null,
   "metadata": {},
   "outputs": [],
   "source": []
  }
 ],
 "metadata": {
  "kernelspec": {
   "display_name": "Python 3 (ipykernel)",
   "language": "python",
   "name": "python3"
  },
  "language_info": {
   "codemirror_mode": {
    "name": "ipython",
    "version": 3
   },
   "file_extension": ".py",
   "mimetype": "text/x-python",
   "name": "python",
   "nbconvert_exporter": "python",
   "pygments_lexer": "ipython3",
   "version": "3.7.12"
  }
 },
 "nbformat": 4,
 "nbformat_minor": 4
}
