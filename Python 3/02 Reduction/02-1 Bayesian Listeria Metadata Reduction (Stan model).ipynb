{
 "cells": [
  {
   "cell_type": "code",
   "execution_count": 1,
   "metadata": {},
   "outputs": [],
   "source": [
    "%matplotlib inline\n",
    "import pystan\n",
    "import pickle\n",
    "from tqdm.notebook import tqdm as tqdm"
   ]
  },
  {
   "cell_type": "code",
   "execution_count": 2,
   "metadata": {},
   "outputs": [
    {
     "name": "stderr",
     "output_type": "stream",
     "text": [
      "INFO:pystan:COMPILING THE C++ CODE FOR MODEL anon_model_3e02c8fb38d1511d5bbb882e11447869 NOW.\n"
     ]
    }
   ],
   "source": [
    "model = \"\"\"\n",
    "data {\n",
    "    int N;                        // number of data\n",
    "    vector[N] D;   // D-values\n",
    "    real T[N];          // temperature\n",
    "    real T_ref;          // reference temp\n",
    "}\n",
    "\n",
    "transformed data{\n",
    "    vector[N] logD;\n",
    "    logD = log10(D);\n",
    "}\n",
    "\n",
    "parameters {\n",
    "    real<lower=0> z;\n",
    "    real<lower=0> D_ref;\n",
    "    real<lower=0> s_logD;\n",
    "}\n",
    "\n",
    "transformed parameters{\n",
    "    vector [N] logD_pred;\n",
    "    \n",
    "    for(n in 1:N){\n",
    "        logD_pred[n] = -1*(T[n]-T_ref) /z + log10(D_ref);\n",
    "    }\n",
    "}\n",
    "\n",
    "model {\n",
    "    s_logD ~ cauchy(0, 1);    //priors of SD\n",
    "    for (n in 1:N){\n",
    "        logD[n] ~ normal(logD_pred[n], s_logD);\n",
    "    }\n",
    "}\n",
    "\n",
    "\"\"\"\n",
    "sm = pystan.StanModel(model_code=model)\n",
    "\n",
    "with open('stan_model_D.pkl', 'wb') as g:\n",
    "\n",
    "    pickle.dump(sm, g)"
   ]
  },
  {
   "cell_type": "code",
   "execution_count": null,
   "metadata": {},
   "outputs": [],
   "source": []
  }
 ],
 "metadata": {
  "kernelspec": {
   "display_name": "Python 3 (ipykernel)",
   "language": "python",
   "name": "python3"
  },
  "language_info": {
   "codemirror_mode": {
    "name": "ipython",
    "version": 3
   },
   "file_extension": ".py",
   "mimetype": "text/x-python",
   "name": "python",
   "nbconvert_exporter": "python",
   "pygments_lexer": "ipython3",
   "version": "3.7.12"
  }
 },
 "nbformat": 4,
 "nbformat_minor": 4
}
